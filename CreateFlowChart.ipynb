{
  "nbformat": 4,
  "nbformat_minor": 0,
  "metadata": {
    "colab": {
      "provenance": [],
      "authorship_tag": "ABX9TyMttkufV8foGUaiATvb9kl2",
      "include_colab_link": true
    },
    "kernelspec": {
      "name": "python3",
      "display_name": "Python 3"
    },
    "language_info": {
      "name": "python"
    }
  },
  "cells": [
    {
      "cell_type": "markdown",
      "metadata": {
        "id": "view-in-github",
        "colab_type": "text"
      },
      "source": [
        "<a href=\"https://colab.research.google.com/github/mahalingamagesthian/hybrid-search-demo/blob/main/CreateFlowChart.ipynb\" target=\"_parent\"><img src=\"https://colab.research.google.com/assets/colab-badge.svg\" alt=\"Open In Colab\"/></a>"
      ]
    },
    {
      "cell_type": "code",
      "execution_count": 1,
      "metadata": {
        "colab": {
          "base_uri": "https://localhost:8080/"
        },
        "id": "ByeHwB9tBcSd",
        "outputId": "2ffaabe6-d12e-4955-e6c3-291845ff785f"
      },
      "outputs": [
        {
          "output_type": "stream",
          "name": "stdout",
          "text": [
            "Requirement already satisfied: graphviz in /usr/local/lib/python3.11/dist-packages (0.21)\n"
          ]
        }
      ],
      "source": [
        "pip install graphviz"
      ]
    },
    {
      "cell_type": "code",
      "source": [
        "import graphviz\n",
        "\n",
        "# Create a directed graph\n",
        "dot_ingest = graphviz.Digraph(comment='Ingestion Flowchart for Couchbase Vector Store', format='png')\n",
        "dot_ingest.attr(rankdir='TB', size='10,8', overlap='false', splines='ortho') # TB = Top to Bottom\n",
        "\n",
        "# Define nodes with shapes\n",
        "dot_ingest.node('A', 'Start', shape='Mdiamond', style='filled', fillcolor='lightgreen')\n",
        "dot_ingest.node('B', 'Load Environment Variables', shape='box')\n",
        "dot_ingest.node('C', 'Connect to Couchbase\\n(Cluster, Bucket, Scope, Collection)', shape='box')\n",
        "dot_ingest.node('D', 'Load Documents\\n(e.g., ArXivLoader)', shape='box')\n",
        "dot_ingest.node('E', 'Split Documents\\ninto Chunks', shape='box')\n",
        "dot_ingest.node('F', 'Initialize Embedding Model\\n(e.g., OpenAIEmbeddings)', shape='box')\n",
        "dot_ingest.node('G', 'Iterate through Chunks', shape='ellipse')\n",
        "dot_ingest.node('H', 'Generate Vector Embedding\\nfor Chunk Text', shape='box')\n",
        "dot_ingest.node('I', 'Store Chunk & Embedding\\nin Couchbase Collection', shape='box')\n",
        "dot_ingest.node('J', 'Ingestion Complete!', shape='box', style='filled', fillcolor='lightblue')\n",
        "dot_ingest.node('K', 'Close Couchbase Connection', shape='box')\n",
        "dot_ingest.node('L', 'End', shape='Msquare', style='filled', fillcolor='lightcoral')\n",
        "\n",
        "# Define edges (transitions)\n",
        "dot_ingest.edge('A', 'B')\n",
        "dot_ingest.edge('B', 'C')\n",
        "dot_ingest.edge('C', 'D')\n",
        "dot_ingest.edge('D', 'E')\n",
        "dot_ingest.edge('E', 'F')\n",
        "dot_ingest.edge('F', 'G')\n",
        "dot_ingest.edge('G', 'H', label='For each chunk')\n",
        "dot_ingest.edge('H', 'I')\n",
        "dot_ingest.edge('I', 'G', label='More chunks?') # Loop back for more chunks\n",
        "dot_ingest.edge('G', 'J', label='All chunks processed') # Exit loop\n",
        "dot_ingest.edge('J', 'K')\n",
        "dot_ingest.edge('K', 'L')\n",
        "\n",
        "# Render the graph to a file\n",
        "dot_ingest.render('ingest_flowchart', view=False) # view=True opens the file automatically\n",
        "print(\"Ingest flowchart saved as ingest_flowchart.png\")"
      ],
      "metadata": {
        "colab": {
          "base_uri": "https://localhost:8080/"
        },
        "id": "BCj5RDCvMHcY",
        "outputId": "b26e032c-dbab-43a9-fabf-cd229dbc593a"
      },
      "execution_count": 2,
      "outputs": [
        {
          "output_type": "stream",
          "name": "stderr",
          "text": [
            "Warning: Orthogonal edges do not currently handle edge labels. Try using xlabels.\n"
          ]
        },
        {
          "output_type": "stream",
          "name": "stdout",
          "text": [
            "Ingest flowchart saved as ingest_flowchart.png\n"
          ]
        }
      ]
    },
    {
      "cell_type": "code",
      "source": [
        "import graphviz\n",
        "\n",
        "# Create a directed graph\n",
        "dot_search = graphviz.Digraph(comment='Hybrid Search Flowchart for Couchbase Vector Store', format='png')\n",
        "dot_search.attr(rankdir='TB', size='10,8', overlap='false', splines='ortho') # LR = Left to Right\n",
        "\n",
        "# Define nodes with shapes\n",
        "dot_search.node('A', 'Start', shape='Mdiamond', style='filled', fillcolor='lightgreen')\n",
        "dot_search.node('B', 'Load Environment Variables', shape='box')\n",
        "dot_search.node('C', 'Connect to Couchbase\\n(Cluster, Bucket, Scope, Collection)', shape='box')\n",
        "dot_search.node('D', 'Initialize Embedding Model\\n(e.g., OpenAIEmbeddings)', shape='box')\n",
        "dot_search.node('E', 'Initialize CouchbaseVectorStore\\nfor Search', shape='box')\n",
        "dot_search.node('F', 'Receive User Query', shape='parallelogram', style='filled', fillcolor='lightblue')\n",
        "\n",
        "# Define a subgraph for the Hybrid Search Process\n",
        "with dot_search.subgraph(name='cluster_hybrid_search') as c:\n",
        "    c.attr(label='Hybrid Search Process', style='filled', fillcolor='lightgray')\n",
        "    c.attr(rankdir='LR') # Ensure internal subgraph flow is also LR\n",
        "\n",
        "    c.node('G1', 'Embed User Query', shape='box')\n",
        "    c.node('H1', 'Perform Vector Similarity Search\\n(using Vector Index)', shape='box')\n",
        "    c.node('I1', 'Get Top K Semantic Results', shape='cylinder')\n",
        "\n",
        "    c.node('G2', 'Use User Query Text', shape='box')\n",
        "    c.node('H2', 'Perform Keyword Full-Text Search\\n(using FTS Index)', shape='box')\n",
        "    c.node('I2', 'Get Top K Keyword Results', shape='cylinder')\n",
        "\n",
        "    c.edge('G1', 'H1')\n",
        "    c.edge('H1', 'I1')\n",
        "    c.edge('G2', 'H2')\n",
        "    c.edge('H2', 'I2')\n",
        "\n",
        "dot_search.node('J', 'Combine/Present Results', shape='box', style='filled', fillcolor='lightblue')\n",
        "dot_search.node('K', 'Close Couchbase Connection', shape='box')\n",
        "dot_search.node('L', 'End', shape='Msquare', style='filled', fillcolor='lightcoral')\n",
        "\n",
        "# Define edges for the main graph\n",
        "dot_search.edge('A', 'B')\n",
        "dot_search.edge('B', 'C')\n",
        "dot_search.edge('C', 'D')\n",
        "dot_search.edge('D', 'E')\n",
        "dot_search.edge('E', 'F')\n",
        "\n",
        "# Connect the query to the hybrid search branches\n",
        "dot_search.edge('F', 'G1', label='For vector search')\n",
        "dot_search.edge('F', 'G2', label='For keyword search')\n",
        "\n",
        "# Connect results back to combining step\n",
        "dot_search.edge('I1', 'J')\n",
        "dot_search.edge('I2', 'J')\n",
        "\n",
        "dot_search.edge('J', 'K')\n",
        "dot_search.edge('K', 'L')\n",
        "\n",
        "# Render the graph to a file\n",
        "dot_search.render('hybrid_search_flowchart', view=False) # view=True opens the file automatically\n",
        "print(\"Hybrid search flowchart saved as hybrid_search_flowchart.png\")"
      ],
      "metadata": {
        "colab": {
          "base_uri": "https://localhost:8080/"
        },
        "id": "3DOaLy2fMZIA",
        "outputId": "310172d0-43e2-44ff-837c-2b5147c3c6c5"
      },
      "execution_count": 4,
      "outputs": [
        {
          "output_type": "stream",
          "name": "stderr",
          "text": [
            "Warning: Orthogonal edges do not currently handle edge labels. Try using xlabels.\n"
          ]
        },
        {
          "output_type": "stream",
          "name": "stdout",
          "text": [
            "Hybrid search flowchart saved as hybrid_search_flowchart.png\n"
          ]
        }
      ]
    }
  ]
}